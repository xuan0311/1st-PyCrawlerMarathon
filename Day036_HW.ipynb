{
 "cells": [
  {
   "cell_type": "markdown",
   "metadata": {},
   "source": [
    "# 加速：非同步爬蟲\n",
    "\n",
    "* 了解非同步爬蟲加速原理與實作"
   ]
  },
  {
   "cell_type": "markdown",
   "metadata": {},
   "source": [
    "## 作業目標\n",
    "\n",
    "* 比較一下非同步爬蟲跟多線程爬蟲的差異是什麼？各自的優缺點為何？"
   ]
  },
  {
   "cell_type": "code",
   "execution_count": 1,
   "metadata": {
    "scrolled": true
   },
   "outputs": [
    {
     "data": {
      "text/plain": [
       "'\\nYour Input\\n'"
      ]
     },
     "execution_count": 1,
     "metadata": {},
     "output_type": "execute_result"
    }
   ],
   "source": [
    "'''Your Input'''"
   ]
  },
  {
   "cell_type": "markdown",
   "metadata": {},
   "source": [
    "# 非同步方法"
   ]
  },
  {
   "cell_type": "markdown",
   "metadata": {},
   "source": [
    "非同步方法在爬蟲中是有效的速度提升手段，使用aiohttp可以非同步地處理HTTP請求，使用asyncio可以實現非同步IO。\n",
    "\n",
    "非同步方法使用了「非同步」和「併發」兩種提速方法，自然在速度有明顯提升，"
   ]
  },
  {
   "cell_type": "markdown",
   "metadata": {},
   "source": [
    "# 多線程爬蟲"
   ]
  },
  {
   "cell_type": "markdown",
   "metadata": {},
   "source": [
    "優點: \n",
    "1. GAE 的支持。\n",
    "2. 各種爬蟲框架，方便高效的下載網頁。\n",
    "3. 多線程會更優化程序效率，會減少請求頁面時較長的延遲，提升整個系統下載和分析能力。"
   ]
  },
  {
   "cell_type": "markdown",
   "metadata": {},
   "source": [
    "缺點:\n",
    "\n",
    "1.對不規範 HTML 適應能力差，舉例來說:如果一個頁面裡面同時有 GB18030 字符集的中文和 UTF-8 字符集的中文，Python 處理起來就沒有 PHP 那麼簡單。\n",
    "\n",
    "2.因為GIL(Global Interpreter Lock) 導致Python的多線程程序無法利用多核CPU的優勢，僅能使用單核。"
   ]
  },
  {
   "cell_type": "markdown",
   "metadata": {},
   "source": [
    "## 參考來源 "
   ]
  },
  {
   "cell_type": "markdown",
   "metadata": {},
   "source": [
    "https://www.itread01.com/content/1541933072.html\n",
    "\n",
    "https://kknews.cc/zh-tw/code/q6k4v4r.html\n",
    "\n",
    "https://morvanzhou.github.io/tutorials/python-basic/threading/5-GIL/"
   ]
  },
  {
   "cell_type": "code",
   "execution_count": null,
   "metadata": {},
   "outputs": [],
   "source": []
  }
 ],
 "metadata": {
  "colab": {
   "name": "homework.ipynb",
   "provenance": []
  },
  "kernelspec": {
   "display_name": "Python 3",
   "language": "python",
   "name": "python3"
  },
  "language_info": {
   "codemirror_mode": {
    "name": "ipython",
    "version": 3
   },
   "file_extension": ".py",
   "mimetype": "text/x-python",
   "name": "python",
   "nbconvert_exporter": "python",
   "pygments_lexer": "ipython3",
   "version": "3.7.6"
  }
 },
 "nbformat": 4,
 "nbformat_minor": 1
}
