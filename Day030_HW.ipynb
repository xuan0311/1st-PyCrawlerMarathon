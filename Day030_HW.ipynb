{
 "cells": [
  {
   "cell_type": "markdown",
   "metadata": {},
   "source": [
    "# 實務上的爬蟲與挑戰\n",
    "\n",
    "\n",
    "* 實務上爬蟲可能遇到的問題有哪些\n",
    "* 淺談常見防爬蟲機制與處理策略\n",
    "* 如何建構一個可以自動持續更新的爬蟲程式\n",
    "\n",
    "\n"
   ]
  },
  {
   "cell_type": "markdown",
   "metadata": {},
   "source": [
    "## 作業目標\n",
    "\n",
    "* （簡答題）試著舉出一到三個爬蟲可能會遇到的問題導致無法抓取的？\n"
   ]
  },
  {
   "cell_type": "markdown",
   "metadata": {},
   "source": [
    "### （簡答題）試著舉出一到三個爬蟲可能會遇到的問題導致無法抓取的？"
   ]
  },
  {
   "cell_type": "markdown",
   "metadata": {},
   "source": [
    "\"\"\"\n",
    "Your Input Here\n",
    "\"\"\"\n",
    "1.訪問頻率限制。\n",
    "\n",
    "2.蜜罐技術\n",
    "\n",
    "網頁上會故意留下一些人類看不到或者絕對不會點擊的鏈接，由於爬蟲會從源代碼中獲取內容，所以爬蟲可能會訪問這樣的鏈接，這個時候，只要網站發現了有IP訪問這個鏈接，立刻永久封禁該IP + User-Agent + Mac地址等等可以用於識別訪問者身份的所有信息，這個時候，訪問者即便是把IP換了，也沒有辦法訪問這個網站了，給爬蟲造成了非常大的訪問障礙。\n",
    "\n",
    "3.登入帳戶權限/登入認證/驗證碼 。\n",
    "\n"
   ]
  },
  {
   "cell_type": "code",
   "execution_count": null,
   "metadata": {},
   "outputs": [],
   "source": []
  }
 ],
 "metadata": {
  "kernelspec": {
   "display_name": "Python 3",
   "language": "python",
   "name": "python3"
  },
  "language_info": {
   "codemirror_mode": {
    "name": "ipython",
    "version": 3
   },
   "file_extension": ".py",
   "mimetype": "text/x-python",
   "name": "python",
   "nbconvert_exporter": "python",
   "pygments_lexer": "ipython3",
   "version": "3.7.5"
  }
 },
 "nbformat": 4,
 "nbformat_minor": 2
}
