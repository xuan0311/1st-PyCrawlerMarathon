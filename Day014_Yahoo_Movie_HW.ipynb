{
 "cells": [
  {
   "cell_type": "markdown",
   "metadata": {},
   "source": [
    "# YAHOO電影爬蟲練習\n",
    "## 練習爬取電影放映資訊。必須逐步獲取電影的代號、放映地區、放映日期後，再送出查詢給伺服器。"
   ]
  },
  {
   "cell_type": "code",
   "execution_count": 1,
   "metadata": {},
   "outputs": [],
   "source": [
    "#載入套件\n",
    "import requests\n",
    "import re\n",
    "from bs4 import BeautifulSoup"
   ]
  },
  {
   "cell_type": "markdown",
   "metadata": {},
   "source": [
    "### 先搜尋全部的電影代號(ID)資訊"
   ]
  },
  {
   "cell_type": "code",
   "execution_count": 2,
   "metadata": {
    "scrolled": true
   },
   "outputs": [
    {
     "name": "stdout",
     "output_type": "stream",
     "text": [
      "Movie: 海上鋼琴師4K數位修復, ID: 10425\n",
      "Movie: 鹿皮奇談, ID: 10420\n",
      "Movie: 大約在冬季, ID: 10408\n",
      "Movie: 倒數計死, ID: 10390\n",
      "Movie: 吹哨人, ID: 10381\n",
      "Movie: 幸福試用期, ID: 10374\n",
      "Movie: 竊竊屍語, ID: 10365\n",
      "Movie: 舞力決戰, ID: 10344\n",
      "Movie: 潛艦追緝, ID: 10333\n",
      "Movie: 霹靂嬌娃, ID: 10124\n",
      "Movie: 白頭山：半島浩劫, ID: 10354\n",
      "Movie: CATS貓, ID: 10166\n",
      "Movie: 金魚, ID: 10424\n",
      "Movie: 海上花, ID: 10376\n",
      "Movie: 奪魂露營車, ID: 10366\n",
      "Movie: 怨靈古堡, ID: 10356\n",
      "Movie: 添好孕, ID: 10332\n",
      "Movie: 外出偷馬, ID: 10310\n",
      "Movie: 茱蒂, ID: 10112\n",
      "Movie: 燃燒女子的畫像, ID: 10069\n",
      "Movie: 葉問4：完結篇, ID: 9890\n",
      "Movie: STAR WARS : 天行者的崛起, ID: 10225\n",
      "Movie: 復仇母親, ID: 10392\n",
      "Movie: 風暴過後, ID: 10387\n",
      "Movie: 南方車站的聚會, ID: 10380\n",
      "Movie: 祭旗, ID: 10373\n",
      "Movie: 黑熊來了, ID: 10357\n",
      "Movie: 黑計畫, ID: 10351\n",
      "Movie: HUMAN LOST人間失格, ID: 10348\n",
      "Movie: 假面騎士劇場版ZI-O Over Quartzer, ID: 10331\n",
      "Movie: 每個月來訪一次的月經醬, ID: 10324\n",
      "Movie: 8級警戒, ID: 10323\n",
      "Movie: 為你存在的每一天, ID: 10297\n",
      "Movie: 黑色聖誕節, ID: 10291\n",
      "Movie: 熱氣球飛行家, ID: 10257\n",
      "Movie: 大說謊家, ID: 10122\n",
      "Movie: 特約經紀公司, ID: 10364\n",
      "Movie: 花生醬獵鷹的願望, ID: 10340\n",
      "Movie: 人間失格：太宰治與他的3個女人, ID: 10287\n",
      "Movie: 呆萌特務, ID: 10264\n",
      "Movie: 去年聖誕節, ID: 10256\n",
      "Movie: 野蠻遊戲：全面晉級, ID: 10134\n",
      "Movie: 夕霧花園, ID: 10327\n",
      "Movie: 鋒迴路轉, ID: 10258\n",
      "Movie: 賽道狂人, ID: 10097\n",
      "Movie: 82年生的金智英, ID: 10298\n",
      "Movie: 冰雪奇緣2, ID: 9597\n",
      "Movie: Hello World, ID: 10302\n",
      "Movie: 萬萬沒想到, ID: 10281\n",
      "Movie: 為美好的世界獻上祝福！紅傳說, ID: 10226\n",
      "Movie: 重甲機神：神降臨, ID: 10290\n",
      "Movie: 決戰中途島, ID: 10130\n",
      "Movie: 紫羅蘭永恆花園外傳－永遠與自動手記人偶－, ID: 10292\n",
      "Movie: 陽光普照, ID: 10240\n",
      "Movie: 傻傻愛你，傻傻愛我, ID: 10075\n",
      "Movie: 狙擊獵殺：救援行動, ID: 10284\n",
      "Movie: 金翅雀, ID: 10072\n",
      "Movie: 雙子殺手, ID: 10017\n",
      "Movie: 盲人律師, ID: 10267\n",
      "Movie: 海獸之子, ID: 10263\n",
      "Movie: 電影版 壞傢伙們, ID: 10249\n",
      "Movie: 江湖無難事, ID: 10241\n",
      "Movie: 仙戒奇緣, ID: 10211\n",
      "Movie: 藍波：最後一滴血, ID: 10205\n",
      "Movie: 屍樂園：髒比雙拼, ID: 10176\n",
      "Movie: 弒婚遊戲, ID: 10171\n",
      "Movie: 108悍將, ID: 10238\n",
      "Movie: 壞壞萌雪怪, ID: 10065\n",
      "Movie: 小丑, ID: 9949\n",
      "Movie: 教父II, ID: 10289\n",
      "Movie: 瞞天機密, ID: 10206\n",
      "Movie: 校外打怪教學, ID: 10200\n",
      "Movie: 返校, ID: 10109\n",
      "Movie: 唐頓莊園, ID: 10064\n",
      "Movie: 衝擊真相, ID: 10215\n",
      "Movie: 舞孃騙很大, ID: 10199\n",
      "Movie: 好小男孩, ID: 9894\n",
      "Movie: 大叔之愛電影版, ID: 10136\n",
      "Movie: 牠 第二章, ID: 10042\n",
      "Movie: 極限逃生, ID: 10174\n",
      "Movie: 全面攻佔3：天使救援, ID: 10082\n",
      "Movie: 普羅米亞, ID: 10119\n",
      "Movie: 憤怒鳥玩電影2：冰的啦, ID: 10002\n",
      "Movie: 獅子王, ID: 9116\n",
      "Movie: 玩具總動員4, ID: 9924\n",
      "Movie: 毀滅者, ID: 9405\n",
      "Movie: 庫爾斯克號：深海救援, ID: 9134\n",
      "Movie: 厄夜追緝令, ID: 9589\n",
      "Movie: 苦兒流浪記, ID: 9538\n",
      "Movie: 活個精彩, ID: 9394\n",
      "Movie: 限時好友, ID: 9578\n",
      "Movie: 祝你忌日快樂, ID: 9568\n",
      "Movie: 艾莉塔：戰鬥天使, ID: 8553\n",
      "Movie: 馴龍高手3, ID: 8350\n",
      "Movie: 幸福綠皮書, ID: 9150\n",
      "Movie: 一首搖滾上月球, ID: 4887\n",
      "Movie: 錢不夠用2, ID: 3026\n"
     ]
    }
   ],
   "source": [
    "# 查看目前上映那些電影，並擷取出其ID資訊\n",
    "# 想要爬資料的目標網址\n",
    "url = 'https://movies.yahoo.com.tw/'\n",
    "resp = requests.get(url) #用 requests 的 get 方法把網頁抓下來\n",
    "resp.encoding = 'utf-8'#轉換編碼至UTF-8\n",
    "\n",
    "soup = BeautifulSoup(resp.text, 'lxml')# text 屬性就是 html 檔案，指定 lxml 作為解析器(lxml效率比較好)\n",
    "html = soup.find(\"select\", attrs={'name':'movie_id'}) # 找出一個\"div\",尋找正在上映中的全部電影筆數，其所在的tag\n",
    "movie_item = html.find_all(\"option\", attrs={'data-name':re.compile('.*')})\n",
    "\n",
    "for p in movie_item:\n",
    "    print(\"Movie: %s, ID: %s\" % (p[\"data-name\"], p[\"value\"]))"
   ]
  },
  {
   "cell_type": "markdown",
   "metadata": {},
   "source": [
    "### 指定你有興趣的電影其ID，然後查詢其放映地區資訊。"
   ]
  },
  {
   "cell_type": "code",
   "execution_count": 5,
   "metadata": {},
   "outputs": [],
   "source": [
    "# 參考前一個步驟中擷取到的ID資訊，並指定ID\n",
    "movie_id = 9597"
   ]
  },
  {
   "cell_type": "code",
   "execution_count": 6,
   "metadata": {},
   "outputs": [
    {
     "name": "stdout",
     "output_type": "stream",
     "text": [
      "放映地區: 台北市, 代號(area_id): 28\n",
      "放映地區: 新北市, 代號(area_id): 8\n",
      "放映地區: 桃園, 代號(area_id): 16\n",
      "放映地區: 新竹, 代號(area_id): 20\n",
      "放映地區: 苗栗, 代號(area_id): 15\n",
      "放映地區: 台中, 代號(area_id): 2\n",
      "放映地區: 彰化, 代號(area_id): 22\n",
      "放映地區: 南投, 代號(area_id): 13\n",
      "放映地區: 雲林, 代號(area_id): 19\n",
      "放映地區: 嘉義, 代號(area_id): 21\n",
      "放映地區: 台南, 代號(area_id): 10\n",
      "放映地區: 高雄, 代號(area_id): 17\n",
      "放映地區: 屏東, 代號(area_id): 14\n",
      "放映地區: 基隆, 代號(area_id): 18\n",
      "放映地區: 宜蘭, 代號(area_id): 11\n",
      "放映地區: 花蓮, 代號(area_id): 12\n",
      "放映地區: 台東, 代號(area_id): 9\n",
      "放映地區: 澎湖, 代號(area_id): 23\n"
     ]
    }
   ],
   "source": [
    "# 想要爬資料的目標網址\n",
    "url = 'https://movies.yahoo.com.tw/api/v1/areas_by_movie_theater'\n",
    "payload = {'movie_id':str(movie_id)}\n",
    "\n",
    "# 模擬一個header\n",
    "headers = {\n",
    "    'authority': 'movies.yahoo.com.tw',\n",
    "    'method': 'GET',\n",
    "    'path': '/api/v1/areas_by_movie_theater?movie_id=' + str(movie_id),\n",
    "    'scheme': 'https',\n",
    "    'accept': 'application/json, text/javascript, */*; q=0.01',\n",
    "    'accept-encoding': 'gzip, deflate, br',\n",
    "    'accept-language': 'zh-TW,zh;q=0.9,en-US;q=0.8,en;q=0.7,zh-CN;q=0.6',\n",
    "    'cookie': 'rxx=9s3x2fws06.1g16irnc&v=1; _ga=GA1.3.2056742944.1551651301; GUC=AQEBAQFczFpdm0IfmwSB&s=AQAAACoo4N5D&g=XMsVBw; BX=4hkdk1decm57t&b=3&s=mr; _ga=GA1.4.2056742944.1551651301; nexagesuid=82843256dd234e8e91aa73f2062f8218; browsed_movie=eyJpdiI6IlJXWWtiSWJaZlNGK2MxQnhscnVUYWc9PSIsInZhbHVlIjoiMXRhMmVHRXRIeUNjc1RBWDJzdGYwbnlIQURmWGsrcjJSMzhkbkcraDNJVUNIZEZsbzU3amlFcVZ1NzlmazJrTGpoMjVrbHk1YmpoRENXaHZTOUw1TmI2ZTZVWHdOejZQZm16RmVuMWlHTTJLaTZLVFZZVkFOMDlTd1wvSGltcytJIiwibWFjIjoiZWQ2ZjA4MmVjZmZlYjlmNjJmYmY2NGMyMDI0Njc0NWViYjVkOWE2NDg0N2RhODMxZjBjZDhiMmJhZTc2MDZhYiJ9; avi=eyJpdiI6Im1NeWFJRlVRWDR1endEcGRGUGJUbVE9PSIsInZhbHVlIjoickRpU3JuUytmcGl6cjF5OW0rNU9iZz09IiwibWFjIjoiY2VmY2NkNzZmM2NhNjY5YzlkOTcyNjE5OGEyMzU0NWYxOTdmMDRkMDY3OWNmMmZjOTMxYjc5MjI5N2Q5NGE5MiJ9; cmp=t=1559391030&j=0; _gid=GA1.4.779543841.1559391031; XSRF-TOKEN=eyJpdiI6IkhpS2hGcDRQaHlmWUJmaHdSS2Q2bHc9PSIsInZhbHVlIjoiOUVoNFk4OHI1UUZmUWRtYXhza0MyWjJSTlhlZ3RnT0VGeVJPN2JuczVRMGRFdWt2OUlsamVKeHRobFwvcHBGM0dhU3VyMXNGTHlsb2dVM2l0U1hpUGxBPT0iLCJtYWMiOiJkZWU4YzJhNjAxMTY3MzE4Y2ExNWIxYmE1ZjE1YWZlZTlhOTcyYjc4M2RlZGY4ZWNjZDYyMTA2NGYwZGViMzc2In0%3D; m_s=eyJpdiI6InpsZHZ2Tk1BZ0dxaHhETml1RjBnUXc9PSIsInZhbHVlIjoiSkNGeHUranRoXC85bDFiaDhySTJqNkJRcWdjWUxjeVRJSHVYZ1wvd2d4bWJZUTUrSHVDM0lUcW5KNHdETFZ4T1lieU81OUhzc1VoUXhZcWk0UDZSQXVFdz09IiwibWFjIjoiYmJkMDJkMDhlODIzMzcyMWY4M2NmYWNjNGVlOWRjMDIwZmVmNzAyMjE3Yzg3ZGY3ODBkZWEzZTI4MTI5ZWNmOSJ9; _gat=1; nexagesd=10',\n",
    "    'dnt': '1',\n",
    "    'mv-authorization': '21835b082e15b91a69b3851eec7b31b82ce82afb',\n",
    "    'referer': 'https://movies.yahoo.com.tw/',\n",
    "    'user-agent': 'Mozilla/5.0 (Windows NT 10.0; Win64; x64) AppleWebKit/537.36 (KHTML, like Gecko) Chrome/74.0.3729.169 Safari/537.36',\n",
    "    'x-requested-with': 'XMLHttpRequest',\n",
    "}\n",
    "    \n",
    "resp = requests.get(url, params=payload, headers=headers)\n",
    "#print(resp.json())  # 若有需要，列印出json原始碼\n",
    "\n",
    "# 這裡回傳的格式是JSON格式的資料，要解析JSON擷取資料\n",
    "for p in resp.json():\n",
    "    print('放映地區: {0}, 代號(area_id): {1}'.format(p['title'], p['area_id']))"
   ]
  },
  {
   "cell_type": "markdown",
   "metadata": {},
   "source": [
    "### 指定你想要觀看的放映地區，查詢有上映電影的場次日期"
   ]
  },
  {
   "cell_type": "code",
   "execution_count": 6,
   "metadata": {},
   "outputs": [],
   "source": [
    "# 指定放映地區\n",
    "area_id = 28"
   ]
  },
  {
   "cell_type": "code",
   "execution_count": 8,
   "metadata": {},
   "outputs": [
    {
     "name": "stdout",
     "output_type": "stream",
     "text": [
      "十二月 31\n",
      "一月 1\n",
      "一月 2\n",
      "一月 3\n",
      "一月 4\n"
     ]
    }
   ],
   "source": [
    "# 向網站發送請求\n",
    "# 想要爬資料的目標網址\n",
    "url = 'https://movies.yahoo.com.tw/movietime_result.html'\n",
    "# 將查詢參數加入 GET 請求中\n",
    "payload = {'movie_id':str(movie_id)}\n",
    "resp = requests.get(url, params=payload)\n",
    "resp.encoding = 'utf-8' #轉換編碼至UTF-8\n",
    "\n",
    "# 取回請求的回覆\n",
    "soup = BeautifulSoup(resp.text, 'lxml') # text 屬性就是 html 檔案，指定 lxml 作為解析器(lxml效率比較好)\n",
    "movie_date = soup.find_all(\"label\", attrs={'for':re.compile(\"date_[\\d]\")})# 找出所有\"label\",尋找正在上映中的全部電影筆數，其所在的tag\n",
    "\n",
    "# 列印播放日期\n",
    "for date in movie_date:\n",
    "    print(\"%s %s\" % (date.p.string, date.h3.string))"
   ]
  },
  {
   "cell_type": "markdown",
   "metadata": {},
   "source": [
    "### 最後指定觀看的日期，查詢並列印出放映的電影院、放映類型(數位、3D、IMAX 3D...)、放映時間等資訊。"
   ]
  },
  {
   "cell_type": "code",
   "execution_count": 9,
   "metadata": {},
   "outputs": [],
   "source": [
    "# 選定要觀看的日期\n",
    "date = \"2019-08-21\""
   ]
  },
  {
   "cell_type": "code",
   "execution_count": 12,
   "metadata": {},
   "outputs": [],
   "source": [
    "# 向網站發送請求，獲取上映的電影院及時間資訊\n",
    "url = \"https://movies.yahoo.com.tw/ajax/pc/get_schedule_by_movie\"\n",
    "payload = {'movie_id':str(movie_id),\n",
    "           'date':date,\n",
    "           'area_id':str(area_id),\n",
    "           'theater_id':'',\n",
    "           'datetime':'',\n",
    "           'movie_type_id':''}\n",
    "\n",
    "resp = requests.get(url, params=payload)\n",
    "#print(resp.json()['view'])  # 若有需要，列印出json原始碼\n",
    "\n",
    "soup = BeautifulSoup(resp.json()['view'], 'lxml')\n",
    "html = soup.find_all(\"ul\", attrs={'data-theater_name':re.compile(\".*\")})"
   ]
  },
  {
   "cell_type": "code",
   "execution_count": 10,
   "metadata": {},
   "outputs": [
    {
     "data": {
      "text/plain": [
       "'\\n\\n  試著從上一步驟回傳的電影院資料中，擷取電影院名稱、影片放映類型以及時間表\\n  \\n  Your code here.\\n\\n'"
      ]
     },
     "execution_count": 10,
     "metadata": {},
     "output_type": "execute_result"
    }
   ],
   "source": [
    "for lists in html:\n",
    "#     print(type(lists))\n",
    "#     print(lists.a.text)\n",
    "    print('===============================================================================================================')\n",
    "    print(\"電影院名稱:{0}\".format(lists.a.text,))\n",
    "    mTypes = lists.find_all('input',{'class':'gabtn'})\n",
    "    for mType in mTypes:\n",
    "        print(\"影片名稱:{0} 影片放映類型:{1} 時間表:{2}\".format(mType['data-movie_title'],mType['data-movie_type'],mType['value']))\n",
    "'''\n",
    "\n",
    "  試著從上一步驟回傳的電影院資料中，擷取電影院名稱、影片放映類型以及時間表\n",
    "  \n",
    "  Your code here.\n",
    "\n",
    "'''\n"
   ]
  },
  {
   "cell_type": "code",
   "execution_count": null,
   "metadata": {},
   "outputs": [],
   "source": []
  }
 ],
 "metadata": {
  "kernelspec": {
   "display_name": "Python 3",
   "language": "python",
   "name": "python3"
  },
  "language_info": {
   "codemirror_mode": {
    "name": "ipython",
    "version": 3
   },
   "file_extension": ".py",
   "mimetype": "text/x-python",
   "name": "python",
   "nbconvert_exporter": "python",
   "pygments_lexer": "ipython3",
   "version": "3.7.4"
  }
 },
 "nbformat": 4,
 "nbformat_minor": 2
}
