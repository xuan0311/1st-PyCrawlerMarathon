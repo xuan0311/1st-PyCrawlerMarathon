{
 "cells": [
  {
   "cell_type": "markdown",
   "metadata": {
    "colab_type": "text",
    "id": "I8CoX4R7VoCd"
   },
   "source": [
    "# 反爬：代理伺服器/IP\n",
    "\n",
    "* 了解「IP 黑/白名單」的反爬蟲機制\n",
    "* 「IP 黑/白名單」反爬蟲的因應策略"
   ]
  },
  {
   "cell_type": "markdown",
   "metadata": {
    "colab_type": "text",
    "id": "n-3DZ_r5VoCe"
   },
   "source": [
    "## 作業目標\n",
    "\n",
    "* 目前程式中的 proxy_ips 是手動輸入的，請根據 https://free-proxy-list.net/ 寫一個可自動化抓取可用 Proxy 的 proxy_ips。\n",
    "\n",
    "\n"
   ]
  },
  {
   "cell_type": "code",
   "execution_count": 7,
   "metadata": {
    "colab": {},
    "colab_type": "code",
    "id": "iny-9heBVoCf"
   },
   "outputs": [
    {
     "data": {
      "text/plain": [
       "['80.191.174.220:8080',\n",
       " '101.51.141.46:37858',\n",
       " '191.36.244.230:51377',\n",
       " '45.230.176.146:23500',\n",
       " '94.74.190.116:80']"
      ]
     },
     "execution_count": 7,
     "metadata": {},
     "output_type": "execute_result"
    }
   ],
   "source": [
    "proxy_ips = []\n",
    "\n",
    "'''Your Code'''\n",
    "#載入套件\n",
    "from bs4 import BeautifulSoup\n",
    "import requests\n",
    "import random\n",
    "\n",
    "# 使用 GET 方式取得網頁資訊\n",
    "resp  = requests.get(' https://free-proxy-list.net/')\n",
    "# 以 BeautifulSoup 解析 HTML 原始碼\n",
    "soup = BeautifulSoup(resp.text,'html.parser') #指定html.parser作為解析器\n",
    "\n",
    "table = soup.find(name='table',attrs={'id':'proxylisttable'})\n",
    "tbody = table.find('tbody')\n",
    "for tr in tbody:\n",
    "    ip = tr.td.string\n",
    "    port = tr.td.next_sibling.string #.next_sibling:查詢兄弟匯總\n",
    "    proxy_ips.append(ip + \":\" + port)\n",
    "proxy_ips[:5]"
   ]
  },
  {
   "cell_type": "code",
   "execution_count": 8,
   "metadata": {
    "colab": {},
    "colab_type": "code",
    "id": "75dIsHjiVoCi"
   },
   "outputs": [
    {
     "name": "stdout",
     "output_type": "stream",
     "text": [
      "Use 197.254.108.134:38857\n",
      "Fail\n",
      "Use 117.242.37.50:23500\n",
      "Fail\n",
      "Use 46.39.245.204:54108\n",
      "Your IP address: 46.39.245.204\n",
      "Use 52.37.86.231:8118\n",
      "Fail\n",
      "Use 202.138.242.41:59199\n",
      "Fail\n",
      "Use 46.39.245.204:54108\n",
      "Your IP address: 46.39.245.204\n",
      "Use 206.189.249.15:8118\n",
      "Fail\n",
      "Use 112.78.143.26:52443\n",
      "Your IP address: 112.78.143.26\n",
      "Use 35.196.237.102:80\n",
      "Fail\n",
      "Use 117.242.37.50:23500\n",
      "Fail\n"
     ]
    }
   ],
   "source": [
    "for i in range(10):\n",
    "    ip = random.choice(proxy_ips)\n",
    "    print('Use', ip)\n",
    "    try:\n",
    "        # 使用 GET 方式取得網頁資訊\n",
    "        resp = requests.get('http://ip.filefab.com/index.php',\n",
    "                        proxies={'http': ip, 'https': ip}, timeout=10)\n",
    "        # 以 BeautifulSoup 解析 HTML 原始碼\n",
    "        soup = BeautifulSoup(resp.text, 'html5lib')  #指定html.parser作為解析器\n",
    "        print(soup.find('h1', id='ipd').text.strip())\n",
    "    except:\n",
    "        print('Fail')"
   ]
  },
  {
   "cell_type": "code",
   "execution_count": null,
   "metadata": {},
   "outputs": [],
   "source": []
  }
 ],
 "metadata": {
  "colab": {
   "name": "homework.ipynb",
   "provenance": []
  },
  "kernelspec": {
   "display_name": "Python 3",
   "language": "python",
   "name": "python3"
  },
  "language_info": {
   "codemirror_mode": {
    "name": "ipython",
    "version": 3
   },
   "file_extension": ".py",
   "mimetype": "text/x-python",
   "name": "python",
   "nbconvert_exporter": "python",
   "pygments_lexer": "ipython3",
   "version": "3.7.4"
  }
 },
 "nbformat": 4,
 "nbformat_minor": 1
}
